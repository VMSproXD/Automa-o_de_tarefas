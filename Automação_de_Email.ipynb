{
 "cells": [
  {
   "cell_type": "markdown",
   "id": "523b41fc-4d16-4d98-951f-8cc3360ed0c8",
   "metadata": {},
   "source": [
    "# Automação de Tarefas"
   ]
  },
  {
   "cell_type": "markdown",
   "id": "bf470d02-db62-44d7-9fad-5034f282c13e",
   "metadata": {},
   "source": [
    "## Problema ser resolvido\n",
    "- Buscar atomaticamente os dados das ações no site do yahoo\n",
    "- Analizar os dados das ações de acordo com as solicitações do gestor\n",
    "- Mandar um E-mail com todas as análises de forma automática"
   ]
  },
  {
   "cell_type": "markdown",
   "id": "cadb092b-b72c-430e-b7cc-159aab446e18",
   "metadata": {},
   "source": [
    "# 1° Passo - Buscar automaticamente os dados das ações no site do Yahoo!"
   ]
  },
  {
   "cell_type": "code",
   "execution_count": null,
   "id": "bf553e55-e404-433a-ac7d-921e17165b05",
   "metadata": {},
   "outputs": [],
   "source": [
    "import yfinance"
   ]
  },
  {
   "cell_type": "code",
   "execution_count": null,
   "id": "7a180bf7-0679-447b-91d9-1443165e71e5",
   "metadata": {},
   "outputs": [],
   "source": [
    "!pip install yfinance"
   ]
  },
  {
   "cell_type": "code",
   "execution_count": null,
   "id": "e180ddb3-6f43-4970-8f23-6272edd67c45",
   "metadata": {},
   "outputs": [],
   "source": []
  },
  {
   "cell_type": "code",
   "execution_count": null,
   "id": "51e0eb90-c903-4191-8d8f-11f5d215eef8",
   "metadata": {},
   "outputs": [],
   "source": [
    "codigo = input (\"Digite o código da ação desejada: \")\n",
    "dados = yfinance.Ticker(\"PETR4.SA\").history(\"6mo\")\n",
    "fechamento = dados.Close\n",
    "fechamento.plot()"
   ]
  },
  {
   "cell_type": "markdown",
   "id": "f2a34759-4753-48ea-8d86-315ddb12987f",
   "metadata": {},
   "source": [
    "# 2° Passo - Análises solicitadas pelo gestor\n",
    "- A análise dos últimos seis meses\n",
    "- Cotação máxima\n",
    "- Cotação mínima\n",
    "- Cotação Atual"
   ]
  },
  {
   "cell_type": "code",
   "execution_count": null,
   "id": "ac23a5ee-16ac-4148-83fb-1603430850de",
   "metadata": {},
   "outputs": [],
   "source": [
    "# Cotação Máxima\n",
    "maxima = fechamento.max()\n",
    "minima = fechamento.min()\n",
    "atual = fechamento.iloc[-1]\n",
    "print(\"Cotação máxima: \",maxima)\n",
    "print(\"Cotação mínima: \",minima)\n",
    "print(\"Cotação atual: \",atual)\n",
    "\n"
   ]
  },
  {
   "cell_type": "markdown",
   "id": "bc5e777c-cb4f-4c73-bf1a-07fb509a9b13",
   "metadata": {},
   "source": [
    "# 3° Passo - Automatiando o encio de E-mail\n",
    "- Abrir uma nova aba (ctr + t)\n",
    "- Esvrever o endereço do G-mail e apertar enter\n",
    "- Clicar no botão escrever\n",
    "- Preencer o Destinatário, tab\n",
    "- Preencher o assunto, tab\n",
    "- Preencher o corpo do e-mail\n",
    "- Clicar no botão Enviar"
   ]
  },
  {
   "cell_type": "code",
   "execution_count": null,
   "id": "557603a6-43a3-4796-b3bb-00bd39a9658f",
   "metadata": {},
   "outputs": [],
   "source": [
    "!pip install pyautogui\n",
    "!pip install pyperclip"
   ]
  },
  {
   "cell_type": "code",
   "execution_count": null,
   "id": "d560fc51-4504-4dfa-b465-bfcd7ce2216c",
   "metadata": {},
   "outputs": [],
   "source": [
    "import pyautogui\n",
    "import pyperclip"
   ]
  },
  {
   "cell_type": "code",
   "execution_count": null,
   "id": "1ae453a7-a8ec-4d9b-9c4f-b60ff62ad199",
   "metadata": {},
   "outputs": [],
   "source": [
    "import time\n",
    "# Configurando uma pausa entre os passos \n",
    "pyautogui.PAUSE = 1\n",
    "\n",
    "# Abrir uma nova aba (ctr + t)\n",
    "pyautogui.hotkey(\"ctrl\",\"t\")\n",
    "\n",
    "# Escrever o endereço do Outlook e apertar enter\n",
    "pyperclip.copy(\"https://outlook.live.com/mail/0/\")\n",
    "pyautogui.hotkey(\"ctrl\",\"v\")\n",
    "pyautogui.hotkey(\"enter\")\n",
    "\n",
    "# Clicar no botão escrever\n",
    "time.sleep(2)\n",
    "pyautogui.click(x=190, y=220)\n",
    "\n",
    "# Preencher destinatário, tab\n",
    "time.sleep(1)\n",
    "pyperclip.copy(\"email@outlook.com\")\n",
    "pyautogui.hotkey(\"ctrl\",\"v\")\n",
    "pyautogui.hotkey(\"tab\")\n",
    "\n",
    "# Preencher o assunto , tab\n",
    "pyperclip.copy(\"Análises diárias\")\n",
    "pyautogui.hotkey(\"ctrl\",\"v\")\n",
    "pyautogui.hotkey(\"tab\")\n",
    "\n",
    "# Preencher o corpo do E-mail\n",
    "mensagem = f\"\"\"Prezado Gestor,\n",
    "Segeum as Análizes dos últimos seis mesês da ação {codigo} conforme o solicitado:\n",
    "\n",
    "Cotação Máxima: R$ {round(maxima,2)}\n",
    "Cotção Mínima: R$ {round(minima,2)}\n",
    "Cotação Atual: R$ {round(atual,2)}\n",
    "\n",
    "Qualque dúvida, estou á disposição!\n",
    "\n",
    "\"\"\"\n",
    "pyperclip.copy(mensagem)\n",
    "pyautogui.hotkey(\"ctrl\",\"V\")\n",
    "\n",
    "# Enviar E-mail  \n",
    "pyautogui.click(x=409,y=282)\n",
    "pyautogui.click()\n"
   ]
  },
  {
   "cell_type": "code",
   "execution_count": null,
   "id": "c14f3907-43ef-4319-a984-f3e383d53d31",
   "metadata": {},
   "outputs": [],
   "source": [
    "import time\n",
    "time.sleep(5)\n",
    "pyautogui.position()"
   ]
  }
 ],
 "metadata": {
  "kernelspec": {
   "display_name": "Python 3 (ipykernel)",
   "language": "python",
   "name": "python3"
  },
  "language_info": {
   "codemirror_mode": {
    "name": "ipython",
    "version": 3
   },
   "file_extension": ".py",
   "mimetype": "text/x-python",
   "name": "python",
   "nbconvert_exporter": "python",
   "pygments_lexer": "ipython3",
   "version": "3.11.7"
  }
 },
 "nbformat": 4,
 "nbformat_minor": 5
}
