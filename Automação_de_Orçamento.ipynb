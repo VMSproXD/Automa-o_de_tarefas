{
 "cells": [
  {
   "cell_type": "markdown",
   "id": "485d1cf1-6af9-45f4-8a72-a05cc38e844a",
   "metadata": {},
   "source": [
    "# Meu Primeiro Projeto com Python"
   ]
  },
  {
   "cell_type": "markdown",
   "id": "18e0c2d8-9b75-4675-81dc-9461a72b4438",
   "metadata": {},
   "source": [
    "## Mostrando informações para o Usuário"
   ]
  },
  {
   "cell_type": "code",
   "execution_count": 8,
   "id": "ddd96fb8-3f53-485a-a18c-97cab2e799ed",
   "metadata": {},
   "outputs": [
    {
     "name": "stdout",
     "output_type": "stream",
     "text": [
      "Semana do python na prática\n",
      "Meu nome e Vinicius \n",
      "Quero muito aprender Python na prática\n"
     ]
    }
   ],
   "source": [
    "print (\"Semana do python na prática\")\n",
    "print (\"Meu nome e Vinicius \")\n",
    "print (\"Quero muito aprender Python na prática\")"
   ]
  },
  {
   "cell_type": "markdown",
   "id": "84524c17-bdd2-4adc-beef-80c9bdec9429",
   "metadata": {},
   "source": [
    "# Entrada de Dados do usuário"
   ]
  },
  {
   "cell_type": "code",
   "execution_count": 9,
   "id": "a495784e-4526-48bc-a2ef-a8d64b70deb4",
   "metadata": {},
   "outputs": [
    {
     "name": "stdin",
     "output_type": "stream",
     "text": [
      "Digite o seu nome:  Vinicius Martiniano\n",
      "Qual linguagem você esta aprendendo?  Python\n"
     ]
    },
    {
     "data": {
      "text/plain": [
       "'Python'"
      ]
     },
     "execution_count": 9,
     "metadata": {},
     "output_type": "execute_result"
    }
   ],
   "source": [
    "input(\"Digite o seu nome: \")\n",
    "input (\"Qual linguagem você esta aprendendo? \")"
   ]
  },
  {
   "cell_type": "markdown",
   "id": "4388e36e-b2a3-410f-9444-3b5c4445a12a",
   "metadata": {},
   "source": [
    "# Armazenando dados em uma variavel"
   ]
  },
  {
   "cell_type": "code",
   "execution_count": 10,
   "id": "1d678ee8-56d1-4105-94de-e73f7ea20495",
   "metadata": {},
   "outputs": [
    {
     "name": "stdout",
     "output_type": "stream",
     "text": [
      "Vinicius\n"
     ]
    }
   ],
   "source": [
    "nome = \"Vinicius\"\n",
    "print (nome)"
   ]
  },
  {
   "cell_type": "code",
   "execution_count": 11,
   "id": "491aee62-295b-4f4f-8cc6-a56ed5df18aa",
   "metadata": {},
   "outputs": [
    {
     "name": "stdin",
     "output_type": "stream",
     "text": [
      "Digite a descrição do projeto:  Projeto de automatização de orçamentos\n",
      "Digite a quantidade de horas previstas: 50\n",
      "Digite o valor da hora trabalhada:  5\n",
      "Digite o prazo do projeto:  6\n"
     ]
    }
   ],
   "source": [
    "projeto = input (\"Digite a descrição do projeto: \")\n",
    "Horas_previstas = input (\"Digite a quantidade de horas previstas:\")\n",
    "Valor_Hora = input (\"Digite o valor da hora trabalhada: \")\n",
    "Prazo = input (\"Digite o prazo do projeto: \")"
   ]
  },
  {
   "cell_type": "code",
   "execution_count": 12,
   "id": "a2743614-54c7-414a-a769-49f5979f7e2d",
   "metadata": {},
   "outputs": [
    {
     "name": "stdout",
     "output_type": "stream",
     "text": [
      "Projeto de automatização de orçamentos\n",
      "50\n",
      "5\n",
      "6\n"
     ]
    }
   ],
   "source": [
    "print (projeto)\n",
    "print(Horas_previstas)\n",
    "print(Valor_Hora)\n",
    "print(Prazo)\n"
   ]
  },
  {
   "cell_type": "markdown",
   "id": "e4c01e6e-d0af-46c5-99ed-cb4426812ad6",
   "metadata": {},
   "source": [
    "# Realizando Calculos na linguagem Python\n",
    "Valor total do projeto = Horas trabalhadas * valor da hora"
   ]
  },
  {
   "cell_type": "code",
   "execution_count": 13,
   "id": "cb20c32e-d9d4-4535-8204-326876361997",
   "metadata": {},
   "outputs": [
    {
     "name": "stdout",
     "output_type": "stream",
     "text": [
      "250\n"
     ]
    }
   ],
   "source": [
    "Valor_total = int(Valor_Hora) * int(Horas_previstas)\n",
    "print (Valor_total)"
   ]
  },
  {
   "cell_type": "markdown",
   "id": "29d1bc67-f57b-4af7-8be8-039919597e40",
   "metadata": {},
   "source": [
    "## Tipos de dados\n",
    "    Textos: STR\n",
    "    Numeros: INT,Float"
   ]
  },
  {
   "cell_type": "code",
   "execution_count": 14,
   "id": "9adea5ab-5806-4a7d-b994-06142af4018c",
   "metadata": {},
   "outputs": [
    {
     "data": {
      "text/plain": [
       "str"
      ]
     },
     "execution_count": 14,
     "metadata": {},
     "output_type": "execute_result"
    }
   ],
   "source": [
    "type(\"Vinicius\")\n"
   ]
  },
  {
   "cell_type": "markdown",
   "id": "50f1f2b4-0af9-4884-9331-34a8bed6b149",
   "metadata": {},
   "source": [
    "# Gegrando arquivo PDF"
   ]
  },
  {
   "cell_type": "code",
   "execution_count": null,
   "id": "7d1e9fb5-b918-41d1-a322-292e7134417c",
   "metadata": {},
   "outputs": [],
   "source": [
    "!pip install fpdf"
   ]
  },
  {
   "cell_type": "code",
   "execution_count": 15,
   "id": "e389be25-0b63-4656-9d92-fe1745f2dbd1",
   "metadata": {},
   "outputs": [],
   "source": [
    "from fpdf import FPDF"
   ]
  },
  {
   "cell_type": "code",
   "execution_count": 16,
   "id": "d5581486-3ffc-41d8-985a-0fa40847b473",
   "metadata": {},
   "outputs": [
    {
     "name": "stdout",
     "output_type": "stream",
     "text": [
      "Orçamento gerado com sucesso\n"
     ]
    }
   ],
   "source": [
    "pdf = FPDF()\n",
    "pdf.add_page()\n",
    "pdf.set_font(\"Arial\")\n",
    "\n",
    "pdf.image(\"template.png\", x=0, y=0)\n",
    "\n",
    "pdf.text(115,145,projeto)\n",
    "pdf.text(115,160,Horas_previstas)\n",
    "pdf.text(115,175,Valor_Hora)\n",
    "pdf.text(115,190,Prazo)\n",
    "pdf.text(115,205,str(Valor_total))\n",
    "\n",
    "\n",
    "pdf.output(\"Orçamento.PDF\")\n",
    "\n",
    "print (\"Orçamento gerado com sucesso\")"
   ]
  },
  {
   "cell_type": "code",
   "execution_count": null,
   "id": "68e75e79-4709-488b-97f2-b3b6cbc0d2e9",
   "metadata": {},
   "outputs": [],
   "source": []
  },
  {
   "cell_type": "code",
   "execution_count": null,
   "id": "1fc774cb-8ac9-4a03-b301-80a9abe424b4",
   "metadata": {},
   "outputs": [],
   "source": []
  }
 ],
 "metadata": {
  "kernelspec": {
   "display_name": "Python 3 (ipykernel)",
   "language": "python",
   "name": "python3"
  },
  "language_info": {
   "codemirror_mode": {
    "name": "ipython",
    "version": 3
   },
   "file_extension": ".py",
   "mimetype": "text/x-python",
   "name": "python",
   "nbconvert_exporter": "python",
   "pygments_lexer": "ipython3",
   "version": "3.11.7"
  }
 },
 "nbformat": 4,
 "nbformat_minor": 5
}
